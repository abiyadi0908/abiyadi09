{
 "cells": [
  {
   "cell_type": "code",
   "execution_count": 1,
   "id": "2ffe1e56",
   "metadata": {},
   "outputs": [],
   "source": [
    "import pandas as pd\n",
    "import numpy as ny\n",
    "import statsmodels.api as sm\n",
    "import seaborn as sbn\n",
    "import matplotlib.pyplot as plt\n",
    "import statsmodels.api as sa\n",
    "from statsmodels.stats.outliers_influence import variance_inflation_factor\n",
    "\n",
    "from sklearn.impute import SimpleImputer\n",
    "from sklearn.linear_model import LogisticRegression\n",
    "from sklearn.tree import DecisionTreeRegressor\n",
    "from sklearn.preprocessing import StandardScaler\n",
    "from sklearn.neighbors import KNeighborsClassifier\n",
    "from sklearn.ensemble import RandomForestClassifier\n",
    "from xgboost.sklearn import XGBClassifier\n",
    "\n",
    "from sklearn.metrics import confusion_matrix, classification_report, f1_score, recall_score, precision_score\n",
    "from sklearn.model_selection import cross_val_score, StratifiedKFold,RandomizedSearchCV\n",
    "from sklearn.metrics import plot_roc_curve, plot_precision_recall_curve\n",
    "from sklearn.model_selection import train_test_split\n",
    "from sklearn.metrics import accuracy_score,r2_score,mean_squared_error"
   ]
  },
  {
   "cell_type": "markdown",
   "id": "91a6a2ce",
   "metadata": {},
   "source": [
    "# Data"
   ]
  },
  {
   "cell_type": "code",
   "execution_count": 2,
   "id": "e732ddd2",
   "metadata": {},
   "outputs": [
    {
     "data": {
      "text/html": [
       "<div>\n",
       "<style scoped>\n",
       "    .dataframe tbody tr th:only-of-type {\n",
       "        vertical-align: middle;\n",
       "    }\n",
       "\n",
       "    .dataframe tbody tr th {\n",
       "        vertical-align: top;\n",
       "    }\n",
       "\n",
       "    .dataframe thead th {\n",
       "        text-align: right;\n",
       "    }\n",
       "</style>\n",
       "<table border=\"1\" class=\"dataframe\">\n",
       "  <thead>\n",
       "    <tr style=\"text-align: right;\">\n",
       "      <th></th>\n",
       "      <th>ph</th>\n",
       "      <th>Hardness</th>\n",
       "      <th>Solids</th>\n",
       "      <th>Chloramines</th>\n",
       "      <th>Sulfate</th>\n",
       "      <th>Conductivity</th>\n",
       "      <th>Organic_carbon</th>\n",
       "      <th>Trihalomethanes</th>\n",
       "      <th>Turbidity</th>\n",
       "      <th>Potability</th>\n",
       "    </tr>\n",
       "  </thead>\n",
       "  <tbody>\n",
       "    <tr>\n",
       "      <th>0</th>\n",
       "      <td>NaN</td>\n",
       "      <td>204.890456</td>\n",
       "      <td>20791.31898</td>\n",
       "      <td>7.300212</td>\n",
       "      <td>368.516441</td>\n",
       "      <td>564.308654</td>\n",
       "      <td>10.379783</td>\n",
       "      <td>86.990970</td>\n",
       "      <td>2.963135</td>\n",
       "      <td>0</td>\n",
       "    </tr>\n",
       "    <tr>\n",
       "      <th>1</th>\n",
       "      <td>3.716080</td>\n",
       "      <td>129.422921</td>\n",
       "      <td>18630.05786</td>\n",
       "      <td>6.635246</td>\n",
       "      <td>NaN</td>\n",
       "      <td>592.885359</td>\n",
       "      <td>15.180013</td>\n",
       "      <td>56.329076</td>\n",
       "      <td>4.500656</td>\n",
       "      <td>0</td>\n",
       "    </tr>\n",
       "    <tr>\n",
       "      <th>2</th>\n",
       "      <td>8.099124</td>\n",
       "      <td>224.236259</td>\n",
       "      <td>19909.54173</td>\n",
       "      <td>9.275884</td>\n",
       "      <td>NaN</td>\n",
       "      <td>418.606213</td>\n",
       "      <td>16.868637</td>\n",
       "      <td>66.420093</td>\n",
       "      <td>3.055934</td>\n",
       "      <td>0</td>\n",
       "    </tr>\n",
       "    <tr>\n",
       "      <th>3</th>\n",
       "      <td>8.316766</td>\n",
       "      <td>214.373394</td>\n",
       "      <td>22018.41744</td>\n",
       "      <td>8.059332</td>\n",
       "      <td>356.886136</td>\n",
       "      <td>363.266516</td>\n",
       "      <td>18.436525</td>\n",
       "      <td>100.341674</td>\n",
       "      <td>4.628771</td>\n",
       "      <td>0</td>\n",
       "    </tr>\n",
       "    <tr>\n",
       "      <th>4</th>\n",
       "      <td>9.092223</td>\n",
       "      <td>181.101509</td>\n",
       "      <td>17978.98634</td>\n",
       "      <td>6.546600</td>\n",
       "      <td>310.135738</td>\n",
       "      <td>398.410813</td>\n",
       "      <td>11.558279</td>\n",
       "      <td>31.997993</td>\n",
       "      <td>4.075075</td>\n",
       "      <td>0</td>\n",
       "    </tr>\n",
       "    <tr>\n",
       "      <th>...</th>\n",
       "      <td>...</td>\n",
       "      <td>...</td>\n",
       "      <td>...</td>\n",
       "      <td>...</td>\n",
       "      <td>...</td>\n",
       "      <td>...</td>\n",
       "      <td>...</td>\n",
       "      <td>...</td>\n",
       "      <td>...</td>\n",
       "      <td>...</td>\n",
       "    </tr>\n",
       "    <tr>\n",
       "      <th>3271</th>\n",
       "      <td>4.668102</td>\n",
       "      <td>193.681736</td>\n",
       "      <td>47580.99160</td>\n",
       "      <td>7.166639</td>\n",
       "      <td>359.948574</td>\n",
       "      <td>526.424171</td>\n",
       "      <td>13.894419</td>\n",
       "      <td>66.687695</td>\n",
       "      <td>4.435821</td>\n",
       "      <td>1</td>\n",
       "    </tr>\n",
       "    <tr>\n",
       "      <th>3272</th>\n",
       "      <td>7.808856</td>\n",
       "      <td>193.553212</td>\n",
       "      <td>17329.80216</td>\n",
       "      <td>8.061362</td>\n",
       "      <td>NaN</td>\n",
       "      <td>392.449580</td>\n",
       "      <td>19.903225</td>\n",
       "      <td>NaN</td>\n",
       "      <td>2.798243</td>\n",
       "      <td>1</td>\n",
       "    </tr>\n",
       "    <tr>\n",
       "      <th>3273</th>\n",
       "      <td>9.419510</td>\n",
       "      <td>175.762646</td>\n",
       "      <td>33155.57822</td>\n",
       "      <td>7.350233</td>\n",
       "      <td>NaN</td>\n",
       "      <td>432.044783</td>\n",
       "      <td>11.039070</td>\n",
       "      <td>69.845400</td>\n",
       "      <td>3.298875</td>\n",
       "      <td>1</td>\n",
       "    </tr>\n",
       "    <tr>\n",
       "      <th>3274</th>\n",
       "      <td>5.126763</td>\n",
       "      <td>230.603758</td>\n",
       "      <td>11983.86938</td>\n",
       "      <td>6.303357</td>\n",
       "      <td>NaN</td>\n",
       "      <td>402.883113</td>\n",
       "      <td>11.168946</td>\n",
       "      <td>77.488213</td>\n",
       "      <td>4.708658</td>\n",
       "      <td>1</td>\n",
       "    </tr>\n",
       "    <tr>\n",
       "      <th>3275</th>\n",
       "      <td>7.874671</td>\n",
       "      <td>195.102299</td>\n",
       "      <td>17404.17706</td>\n",
       "      <td>7.509306</td>\n",
       "      <td>NaN</td>\n",
       "      <td>327.459761</td>\n",
       "      <td>16.140368</td>\n",
       "      <td>78.698446</td>\n",
       "      <td>2.309149</td>\n",
       "      <td>1</td>\n",
       "    </tr>\n",
       "  </tbody>\n",
       "</table>\n",
       "<p>3276 rows × 10 columns</p>\n",
       "</div>"
      ],
      "text/plain": [
       "            ph    Hardness       Solids  Chloramines     Sulfate  \\\n",
       "0          NaN  204.890456  20791.31898     7.300212  368.516441   \n",
       "1     3.716080  129.422921  18630.05786     6.635246         NaN   \n",
       "2     8.099124  224.236259  19909.54173     9.275884         NaN   \n",
       "3     8.316766  214.373394  22018.41744     8.059332  356.886136   \n",
       "4     9.092223  181.101509  17978.98634     6.546600  310.135738   \n",
       "...        ...         ...          ...          ...         ...   \n",
       "3271  4.668102  193.681736  47580.99160     7.166639  359.948574   \n",
       "3272  7.808856  193.553212  17329.80216     8.061362         NaN   \n",
       "3273  9.419510  175.762646  33155.57822     7.350233         NaN   \n",
       "3274  5.126763  230.603758  11983.86938     6.303357         NaN   \n",
       "3275  7.874671  195.102299  17404.17706     7.509306         NaN   \n",
       "\n",
       "      Conductivity  Organic_carbon  Trihalomethanes  Turbidity  Potability  \n",
       "0       564.308654       10.379783        86.990970   2.963135           0  \n",
       "1       592.885359       15.180013        56.329076   4.500656           0  \n",
       "2       418.606213       16.868637        66.420093   3.055934           0  \n",
       "3       363.266516       18.436525       100.341674   4.628771           0  \n",
       "4       398.410813       11.558279        31.997993   4.075075           0  \n",
       "...            ...             ...              ...        ...         ...  \n",
       "3271    526.424171       13.894419        66.687695   4.435821           1  \n",
       "3272    392.449580       19.903225              NaN   2.798243           1  \n",
       "3273    432.044783       11.039070        69.845400   3.298875           1  \n",
       "3274    402.883113       11.168946        77.488213   4.708658           1  \n",
       "3275    327.459761       16.140368        78.698446   2.309149           1  \n",
       "\n",
       "[3276 rows x 10 columns]"
      ]
     },
     "execution_count": 2,
     "metadata": {},
     "output_type": "execute_result"
    }
   ],
   "source": [
    "water = pd.read_csv('water_potability.csv')\n",
    "water"
   ]
  },
  {
   "cell_type": "code",
   "execution_count": 3,
   "id": "846d56b9",
   "metadata": {},
   "outputs": [
    {
     "data": {
      "text/plain": [
       "ph                 491\n",
       "Hardness             0\n",
       "Solids               0\n",
       "Chloramines          0\n",
       "Sulfate            781\n",
       "Conductivity         0\n",
       "Organic_carbon       0\n",
       "Trihalomethanes    162\n",
       "Turbidity            0\n",
       "Potability           0\n",
       "dtype: int64"
      ]
     },
     "execution_count": 3,
     "metadata": {},
     "output_type": "execute_result"
    }
   ],
   "source": [
    "water.isnull().sum()"
   ]
  },
  {
   "cell_type": "code",
   "execution_count": 4,
   "id": "31fa8ce4",
   "metadata": {},
   "outputs": [],
   "source": [
    "x = water[['ph','Hardness','Solids','Chloramines','Sulfate','Conductivity','Organic_carbon','Trihalomethanes','Turbidity']]\n",
    "y = water['Potability']"
   ]
  },
  {
   "cell_type": "code",
   "execution_count": 5,
   "id": "e3f5d0fe",
   "metadata": {},
   "outputs": [
    {
     "data": {
      "text/plain": [
       "0    1998\n",
       "1    1278\n",
       "Name: Potability, dtype: int64"
      ]
     },
     "execution_count": 5,
     "metadata": {},
     "output_type": "execute_result"
    }
   ],
   "source": [
    "water['Potability'].value_counts()"
   ]
  },
  {
   "cell_type": "code",
   "execution_count": 6,
   "id": "a4e0182a",
   "metadata": {},
   "outputs": [
    {
     "data": {
      "image/png": "[encoded data removed]",
      "text/plain": [
       "<Figure size 1008x1080 with 9 Axes>"
      ]
     },
     "metadata": {
      "needs_background": "light"
     },
     "output_type": "display_data"
    }
   ],
   "source": [
    "import warnings\n",
    "warnings.filterwarnings('ignore')\n",
    "fig = plt.figure(figsize=(14,15))\n",
    "# for index,col in enumerate(water.drop('Potability',axis=1).columns):\n",
    "#     plt.subplot(5,2,index+1)\n",
    "#     sbn.distplot(water.drop('Potability', axis=1).loc[:,col].dropna(), kde=False, color ='#50C7C7')\n",
    "# fig.tight_layout(pad=1.0)\n",
    "\n",
    "for index,col in enumerate(x.columns):\n",
    "    plt.subplot(5,2,index+1)\n",
    "    sbn.distplot(x.loc[:,col].dropna(), color ='#50C7C7',hist=False)\n",
    "fig.tight_layout(pad=1.0)"
   ]
  },
  {
   "cell_type": "code",
   "execution_count": 7,
   "id": "c6c16896",
   "metadata": {},
   "outputs": [
    {
     "data": {
      "image/png": "[encoded data removed]",
      "text/plain": [
       "<Figure size 1008x1080 with 9 Axes>"
      ]
     },
     "metadata": {
      "needs_background": "light"
     },
     "output_type": "display_data"
    }
   ],
   "source": [
    "fig = plt.figure(figsize=(14,15))\n",
    "for index,col in enumerate(x.columns):\n",
    "    plt.subplot(5,2,index+1)\n",
    "    sbn.boxplot(y=col, data=x.dropna(), color ='#50C7C7')\n",
    "fig.tight_layout(pad=1.0)"
   ]
  },
  {
   "cell_type": "code",
   "execution_count": 8,
   "id": "8a5e9d57",
   "metadata": {},
   "outputs": [
    {
     "data": {
      "text/plain": [
       "<AxesSubplot:>"
      ]
     },
     "execution_count": 8,
     "metadata": {},
     "output_type": "execute_result"
    },
    {
     "data": {
      "image/png": "[encoded data removed]",
      "text/plain": [
       "<Figure size 1008x720 with 2 Axes>"
      ]
     },
     "metadata": {
      "needs_background": "light"
     },
     "output_type": "display_data"
    }
   ],
   "source": [
    "plt.figure(figsize=(14,10))\n",
    "sbn.heatmap(water.corr(), annot = True,cmap='Blues_r')"
   ]
  },
  {
   "cell_type": "code",
   "execution_count": 9,
   "id": "5098365e",
   "metadata": {},
   "outputs": [
    {
     "data": {
      "text/html": [
       "<div>\n",
       "<style scoped>\n",
       "    .dataframe tbody tr th:only-of-type {\n",
       "        vertical-align: middle;\n",
       "    }\n",
       "\n",
       "    .dataframe tbody tr th {\n",
       "        vertical-align: top;\n",
       "    }\n",
       "\n",
       "    .dataframe thead th {\n",
       "        text-align: right;\n",
       "    }\n",
       "</style>\n",
       "<table border=\"1\" class=\"dataframe\">\n",
       "  <thead>\n",
       "    <tr style=\"text-align: right;\">\n",
       "      <th></th>\n",
       "      <th>ph</th>\n",
       "      <th>Hardness</th>\n",
       "      <th>Solids</th>\n",
       "      <th>Chloramines</th>\n",
       "      <th>Sulfate</th>\n",
       "      <th>Conductivity</th>\n",
       "      <th>Organic_carbon</th>\n",
       "      <th>Trihalomethanes</th>\n",
       "      <th>Turbidity</th>\n",
       "      <th>Potability</th>\n",
       "    </tr>\n",
       "  </thead>\n",
       "  <tbody>\n",
       "    <tr>\n",
       "      <th>0</th>\n",
       "      <td>7.036752</td>\n",
       "      <td>204.890456</td>\n",
       "      <td>20791.31898</td>\n",
       "      <td>7.300212</td>\n",
       "      <td>368.516441</td>\n",
       "      <td>564.308654</td>\n",
       "      <td>10.379783</td>\n",
       "      <td>86.990970</td>\n",
       "      <td>2.963135</td>\n",
       "      <td>0</td>\n",
       "    </tr>\n",
       "    <tr>\n",
       "      <th>1</th>\n",
       "      <td>3.716080</td>\n",
       "      <td>129.422921</td>\n",
       "      <td>18630.05786</td>\n",
       "      <td>6.635246</td>\n",
       "      <td>333.073546</td>\n",
       "      <td>592.885359</td>\n",
       "      <td>15.180013</td>\n",
       "      <td>56.329076</td>\n",
       "      <td>4.500656</td>\n",
       "      <td>0</td>\n",
       "    </tr>\n",
       "    <tr>\n",
       "      <th>2</th>\n",
       "      <td>8.099124</td>\n",
       "      <td>224.236259</td>\n",
       "      <td>19909.54173</td>\n",
       "      <td>9.275884</td>\n",
       "      <td>333.073546</td>\n",
       "      <td>418.606213</td>\n",
       "      <td>16.868637</td>\n",
       "      <td>66.420093</td>\n",
       "      <td>3.055934</td>\n",
       "      <td>0</td>\n",
       "    </tr>\n",
       "    <tr>\n",
       "      <th>3</th>\n",
       "      <td>8.316766</td>\n",
       "      <td>214.373394</td>\n",
       "      <td>22018.41744</td>\n",
       "      <td>8.059332</td>\n",
       "      <td>356.886136</td>\n",
       "      <td>363.266516</td>\n",
       "      <td>18.436525</td>\n",
       "      <td>100.341674</td>\n",
       "      <td>4.628771</td>\n",
       "      <td>0</td>\n",
       "    </tr>\n",
       "    <tr>\n",
       "      <th>4</th>\n",
       "      <td>9.092223</td>\n",
       "      <td>181.101509</td>\n",
       "      <td>17978.98634</td>\n",
       "      <td>6.546600</td>\n",
       "      <td>310.135738</td>\n",
       "      <td>398.410813</td>\n",
       "      <td>11.558279</td>\n",
       "      <td>31.997993</td>\n",
       "      <td>4.075075</td>\n",
       "      <td>0</td>\n",
       "    </tr>\n",
       "    <tr>\n",
       "      <th>...</th>\n",
       "      <td>...</td>\n",
       "      <td>...</td>\n",
       "      <td>...</td>\n",
       "      <td>...</td>\n",
       "      <td>...</td>\n",
       "      <td>...</td>\n",
       "      <td>...</td>\n",
       "      <td>...</td>\n",
       "      <td>...</td>\n",
       "      <td>...</td>\n",
       "    </tr>\n",
       "    <tr>\n",
       "      <th>3271</th>\n",
       "      <td>4.668102</td>\n",
       "      <td>193.681736</td>\n",
       "      <td>47580.99160</td>\n",
       "      <td>7.166639</td>\n",
       "      <td>359.948574</td>\n",
       "      <td>526.424171</td>\n",
       "      <td>13.894419</td>\n",
       "      <td>66.687695</td>\n",
       "      <td>4.435821</td>\n",
       "      <td>1</td>\n",
       "    </tr>\n",
       "    <tr>\n",
       "      <th>3272</th>\n",
       "      <td>7.808856</td>\n",
       "      <td>193.553212</td>\n",
       "      <td>17329.80216</td>\n",
       "      <td>8.061362</td>\n",
       "      <td>333.073546</td>\n",
       "      <td>392.449580</td>\n",
       "      <td>19.903225</td>\n",
       "      <td>66.622485</td>\n",
       "      <td>2.798243</td>\n",
       "      <td>1</td>\n",
       "    </tr>\n",
       "    <tr>\n",
       "      <th>3273</th>\n",
       "      <td>9.419510</td>\n",
       "      <td>175.762646</td>\n",
       "      <td>33155.57822</td>\n",
       "      <td>7.350233</td>\n",
       "      <td>333.073546</td>\n",
       "      <td>432.044783</td>\n",
       "      <td>11.039070</td>\n",
       "      <td>69.845400</td>\n",
       "      <td>3.298875</td>\n",
       "      <td>1</td>\n",
       "    </tr>\n",
       "    <tr>\n",
       "      <th>3274</th>\n",
       "      <td>5.126763</td>\n",
       "      <td>230.603758</td>\n",
       "      <td>11983.86938</td>\n",
       "      <td>6.303357</td>\n",
       "      <td>333.073546</td>\n",
       "      <td>402.883113</td>\n",
       "      <td>11.168946</td>\n",
       "      <td>77.488213</td>\n",
       "      <td>4.708658</td>\n",
       "      <td>1</td>\n",
       "    </tr>\n",
       "    <tr>\n",
       "      <th>3275</th>\n",
       "      <td>7.874671</td>\n",
       "      <td>195.102299</td>\n",
       "      <td>17404.17706</td>\n",
       "      <td>7.509306</td>\n",
       "      <td>333.073546</td>\n",
       "      <td>327.459761</td>\n",
       "      <td>16.140368</td>\n",
       "      <td>78.698446</td>\n",
       "      <td>2.309149</td>\n",
       "      <td>1</td>\n",
       "    </tr>\n",
       "  </tbody>\n",
       "</table>\n",
       "<p>3276 rows × 10 columns</p>\n",
       "</div>"
      ],
      "text/plain": [
       "            ph    Hardness       Solids  Chloramines     Sulfate  \\\n",
       "0     7.036752  204.890456  20791.31898     7.300212  368.516441   \n",
       "1     3.716080  129.422921  18630.05786     6.635246  333.073546   \n",
       "2     8.099124  224.236259  19909.54173     9.275884  333.073546   \n",
       "3     8.316766  214.373394  22018.41744     8.059332  356.886136   \n",
       "4     9.092223  181.101509  17978.98634     6.546600  310.135738   \n",
       "...        ...         ...          ...          ...         ...   \n",
       "3271  4.668102  193.681736  47580.99160     7.166639  359.948574   \n",
       "3272  7.808856  193.553212  17329.80216     8.061362  333.073546   \n",
       "3273  9.419510  175.762646  33155.57822     7.350233  333.073546   \n",
       "3274  5.126763  230.603758  11983.86938     6.303357  333.073546   \n",
       "3275  7.874671  195.102299  17404.17706     7.509306  333.073546   \n",
       "\n",
       "      Conductivity  Organic_carbon  Trihalomethanes  Turbidity  Potability  \n",
       "0       564.308654       10.379783        86.990970   2.963135           0  \n",
       "1       592.885359       15.180013        56.329076   4.500656           0  \n",
       "2       418.606213       16.868637        66.420093   3.055934           0  \n",
       "3       363.266516       18.436525       100.341674   4.628771           0  \n",
       "4       398.410813       11.558279        31.997993   4.075075           0  \n",
       "...            ...             ...              ...        ...         ...  \n",
       "3271    526.424171       13.894419        66.687695   4.435821           1  \n",
       "3272    392.449580       19.903225        66.622485   2.798243           1  \n",
       "3273    432.044783       11.039070        69.845400   3.298875           1  \n",
       "3274    402.883113       11.168946        77.488213   4.708658           1  \n",
       "3275    327.459761       16.140368        78.698446   2.309149           1  \n",
       "\n",
       "[3276 rows x 10 columns]"
      ]
     },
     "execution_count": 9,
     "metadata": {},
     "output_type": "execute_result"
    }
   ],
   "source": [
    "simple_imputer = SimpleImputer(strategy = 'median')\n",
    "water[['ph','Sulfate','Trihalomethanes']]=simple_imputer.fit_transform(water[['ph','Sulfate','Trihalomethanes']])\n",
    "water"
   ]
  },
  {
   "cell_type": "code",
   "execution_count": 10,
   "id": "d3e8ff51",
   "metadata": {},
   "outputs": [
    {
     "data": {
      "text/plain": [
       "ph                 0\n",
       "Hardness           0\n",
       "Solids             0\n",
       "Chloramines        0\n",
       "Sulfate            0\n",
       "Conductivity       0\n",
       "Organic_carbon     0\n",
       "Trihalomethanes    0\n",
       "Turbidity          0\n",
       "Potability         0\n",
       "dtype: int64"
      ]
     },
     "execution_count": 10,
     "metadata": {},
     "output_type": "execute_result"
    }
   ],
   "source": [
    "water.isnull().sum()"
   ]
  },
  {
   "cell_type": "markdown",
   "id": "73c1db92",
   "metadata": {},
   "source": [
    "# Linear Regression Model Output"
   ]
  },
  {
   "cell_type": "code",
   "execution_count": 11,
   "id": "12492689",
   "metadata": {},
   "outputs": [],
   "source": [
    "x = water[['ph','Hardness','Solids','Chloramines','Sulfate','Conductivity','Organic_carbon','Trihalomethanes','Turbidity']]\n",
    "y = water['Potability']\n",
    "x = sa.add_constant(x)\n",
    "model = sa.OLS(y,x) \n",
    "result = model.fit()"
   ]
  },
  {
   "cell_type": "code",
   "execution_count": 12,
   "id": "31b54642",
   "metadata": {},
   "outputs": [
    {
     "name": "stdout",
     "output_type": "stream",
     "text": [
      "                            OLS Regression Results                            \n",
      "==============================================================================\n",
      "Dep. Variable:             Potability   R-squared:                       0.003\n",
      "Model:                            OLS   Adj. R-squared:                  0.000\n",
      "Method:                 Least Squares   F-statistic:                     1.175\n",
      "Date:                Thu, 14 Oct 2021   Prob (F-statistic):              0.306\n",
      "Time:                        10:44:25   Log-Likelihood:                -2291.3\n",
      "No. Observations:                3276   AIC:                             4603.\n",
      "Df Residuals:                    3266   BIC:                             4664.\n",
      "Df Model:                           9                                         \n",
      "Covariance Type:            nonrobust                                         \n",
      "===================================================================================\n",
      "                      coef    std err          t      P>|t|      [0.025      0.975]\n",
      "-----------------------------------------------------------------------------------\n",
      "const               0.4704      0.146      3.224      0.001       0.184       0.756\n",
      "ph                  0.0010      0.006      0.174      0.862      -0.010       0.012\n",
      "Hardness           -0.0002      0.000     -0.754      0.451      -0.001       0.000\n",
      "Solids           1.844e-06   9.91e-07      1.861      0.063   -9.84e-08    3.79e-06\n",
      "Chloramines         0.0079      0.005      1.457      0.145      -0.003       0.018\n",
      "Sulfate            -0.0002      0.000     -0.932      0.351      -0.001       0.000\n",
      "Conductivity    -4.865e-05      0.000     -0.461      0.645      -0.000       0.000\n",
      "Organic_carbon     -0.0043      0.003     -1.680      0.093      -0.009       0.001\n",
      "Trihalomethanes     0.0002      0.001      0.330      0.741      -0.001       0.001\n",
      "Turbidity       -1.826e-06      0.011     -0.000      1.000      -0.021       0.021\n",
      "==============================================================================\n",
      "Omnibus:                    13509.535   Durbin-Watson:                   0.026\n",
      "Prob(Omnibus):                  0.000   Jarque-Bera (JB):              544.999\n",
      "Skew:                           0.450   Prob(JB):                    4.52e-119\n",
      "Kurtosis:                       1.216   Cond. No.                     4.06e+05\n",
      "==============================================================================\n",
      "\n",
      "Notes:\n",
      "[1] Standard Errors assume that the covariance matrix of the errors is correctly specified.\n",
      "[2] The condition number is large, 4.06e+05. This might indicate that there are\n",
      "strong multicollinearity or other numerical problems.\n"
     ]
    }
   ],
   "source": [
    "print(result.summary())"
   ]
  },
  {
   "cell_type": "markdown",
   "id": "9b0715bb",
   "metadata": {},
   "source": [
    "## Normality"
   ]
  },
  {
   "cell_type": "code",
   "execution_count": 13,
   "id": "55f6a855",
   "metadata": {},
   "outputs": [
    {
     "data": {
      "text/plain": [
       "<seaborn.axisgrid.FacetGrid at 0x1a1d10cd040>"
      ]
     },
     "execution_count": 13,
     "metadata": {},
     "output_type": "execute_result"
    },
    {
     "data": {
      "image/png": "[encoded data removed]",
      "text/plain": [
       "<Figure size 360x360 with 1 Axes>"
      ]
     },
     "metadata": {
      "needs_background": "light"
     },
     "output_type": "display_data"
    }
   ],
   "source": [
    "sbn.displot(result.resid)"
   ]
  },
  {
   "cell_type": "markdown",
   "id": "f67bbe49",
   "metadata": {},
   "source": [
    "## Gauss-Markov Assumption"
   ]
  },
  {
   "cell_type": "code",
   "execution_count": 14,
   "id": "7350ba0c",
   "metadata": {},
   "outputs": [
    {
     "data": {
      "text/plain": [
       "Text(0, 0.5, 'residual')"
      ]
     },
     "execution_count": 14,
     "metadata": {},
     "output_type": "execute_result"
    },
    {
     "data": {
      "image/png": "[encoded data removed]",
      "text/plain": [
       "<Figure size 576x432 with 1 Axes>"
      ]
     },
     "metadata": {
      "needs_background": "light"
     },
     "output_type": "display_data"
    }
   ],
   "source": [
    "plt.figure(figsize=(8,6))\n",
    "sbn.scatterplot(x = result.fittedvalues, y= result.resid)\n",
    "sbn.lineplot(result.fittedvalues, 0)\n",
    "\n",
    "plt.xlabel('y prediksi')\n",
    "plt.ylabel('residual')"
   ]
  },
  {
   "cell_type": "markdown",
   "id": "508787ac",
   "metadata": {},
   "source": [
    "## Multicollinerity Proving"
   ]
  },
  {
   "cell_type": "code",
   "execution_count": 15,
   "id": "ec614ee2",
   "metadata": {},
   "outputs": [],
   "source": [
    "def calc_vif(x):\n",
    "    vif = pd.DataFrame()\n",
    "    vif['Variable'] = x.columns\n",
    "    vif['Vif'] = [variance_inflation_factor(x.values, i) for i in range(x.shape[1])]\n",
    "    return vif"
   ]
  },
  {
   "cell_type": "code",
   "execution_count": 16,
   "id": "e63b01b5",
   "metadata": {},
   "outputs": [
    {
     "data": {
      "text/html": [
       "<div>\n",
       "<style scoped>\n",
       "    .dataframe tbody tr th:only-of-type {\n",
       "        vertical-align: middle;\n",
       "    }\n",
       "\n",
       "    .dataframe tbody tr th {\n",
       "        vertical-align: top;\n",
       "    }\n",
       "\n",
       "    .dataframe thead th {\n",
       "        text-align: right;\n",
       "    }\n",
       "</style>\n",
       "<table border=\"1\" class=\"dataframe\">\n",
       "  <thead>\n",
       "    <tr style=\"text-align: right;\">\n",
       "      <th></th>\n",
       "      <th>Variable</th>\n",
       "      <th>Vif</th>\n",
       "    </tr>\n",
       "  </thead>\n",
       "  <tbody>\n",
       "    <tr>\n",
       "      <th>0</th>\n",
       "      <td>ph</td>\n",
       "      <td>22.809050</td>\n",
       "    </tr>\n",
       "    <tr>\n",
       "      <th>1</th>\n",
       "      <td>Hardness</td>\n",
       "      <td>30.836022</td>\n",
       "    </tr>\n",
       "    <tr>\n",
       "      <th>2</th>\n",
       "      <td>Solids</td>\n",
       "      <td>6.969571</td>\n",
       "    </tr>\n",
       "    <tr>\n",
       "      <th>3</th>\n",
       "      <td>Chloramines</td>\n",
       "      <td>19.585579</td>\n",
       "    </tr>\n",
       "    <tr>\n",
       "      <th>4</th>\n",
       "      <td>Sulfate</td>\n",
       "      <td>56.176186</td>\n",
       "    </tr>\n",
       "    <tr>\n",
       "      <th>5</th>\n",
       "      <td>Conductivity</td>\n",
       "      <td>25.978811</td>\n",
       "    </tr>\n",
       "    <tr>\n",
       "      <th>6</th>\n",
       "      <td>Organic_carbon</td>\n",
       "      <td>18.695406</td>\n",
       "    </tr>\n",
       "    <tr>\n",
       "      <th>7</th>\n",
       "      <td>Trihalomethanes</td>\n",
       "      <td>17.371757</td>\n",
       "    </tr>\n",
       "    <tr>\n",
       "      <th>8</th>\n",
       "      <td>Turbidity</td>\n",
       "      <td>24.128751</td>\n",
       "    </tr>\n",
       "  </tbody>\n",
       "</table>\n",
       "</div>"
      ],
      "text/plain": [
       "          Variable        Vif\n",
       "0               ph  22.809050\n",
       "1         Hardness  30.836022\n",
       "2           Solids   6.969571\n",
       "3      Chloramines  19.585579\n",
       "4          Sulfate  56.176186\n",
       "5     Conductivity  25.978811\n",
       "6   Organic_carbon  18.695406\n",
       "7  Trihalomethanes  17.371757\n",
       "8        Turbidity  24.128751"
      ]
     },
     "execution_count": 16,
     "metadata": {},
     "output_type": "execute_result"
    }
   ],
   "source": [
    "calc_vif(x.drop(columns='const'))"
   ]
  },
  {
   "cell_type": "markdown",
   "id": "1c06aeec",
   "metadata": {},
   "source": [
    "From the linear regression model above we can see that the condition such as normality, assumption, and multicollinerity are not properly fulfilled. In the normality diagram we can see the missing value which not shown in the graph. From the Gauss-Markov assumption scatterplot diagram are completely overlapping between top and bottom data point wich suppossed to be distributed near the center line.Lastly is the hyper multicollinerity that causing the unstable of estimator and parameter value. Thus the other model approaches is needed to handle this condition."
   ]
  },
  {
   "cell_type": "markdown",
   "id": "bfcae145",
   "metadata": {},
   "source": [
    "# Data Splitting "
   ]
  },
  {
   "cell_type": "code",
   "execution_count": 17,
   "id": "248fe266",
   "metadata": {},
   "outputs": [],
   "source": [
    "x_trainval,x_test,y_trainval,y_test = train_test_split(\n",
    " x,\n",
    " y,\n",
    " test_size= 0.25,\n",
    " random_state = 42\n",
    ")"
   ]
  },
  {
   "cell_type": "markdown",
   "id": "70af419d",
   "metadata": {},
   "source": [
    "# Hyperparameter Tuning"
   ]
  },
  {
   "cell_type": "code",
   "execution_count": 18,
   "id": "376c87aa",
   "metadata": {},
   "outputs": [],
   "source": [
    "logreg = LogisticRegression(solver = 'liblinear', random_state =42)\n",
    "knn = KNeighborsClassifier(n_neighbors = 5)\n",
    "tree = DecisionTreeRegressor(criterion = 'mae', max_depth = 5, random_state = 42)\n",
    "rf = RandomForestClassifier(n_estimators = 300, max_features = 2, max_depth = 3)\n",
    "model_xgb = XGBClassifier(n_estimators = 200, learning_rate = 0.1, max_depth = 3, random_state = 10)"
   ]
  },
  {
   "cell_type": "code",
   "execution_count": 19,
   "metadata": {},
   "outputs": [],
   "source": [
    "models = [\n",
    "['Logistic Regression',LogisticRegression(solver = 'liblinear', random_state =42)],\n",
    "['KNN', KNeighborsClassifier(n_neighbors = 5)],\n",
    "['Decision Tree Regressor',DecisionTreeRegressor(criterion = 'mae', max_depth = 5, random_state = 42)],\n",
    "['Random Forest Classifier', RandomForestClassifier(n_estimators = 300, max_features = 2, max_depth = 3)],\n",
    "['XGBoost Classifier', XGBClassifier(n_estimators = 200, learning_rate = 0.1, max_depth = 3, random_state = 10)]\n",
    "]\n",
    "\n",
    "\n",
    "def model_evaluation(model):\n",
    "    model_name=[]\n",
    "    precison_score=[]\n",
    "    precison_score1=[]\n",
    "    for name, model in models:\n",
    "    \n",
    "     skfold = StratifiedKFold(n_splits = 5)\n",
    "     model_cv = cross_val_score(model, x_trainval, y_trainval, cv = skfold)\n",
    "     precison_score.append(model_cv.mean())\n",
    "     precison_score1.append(model_cv.std())\n",
    "     model_name.append(name)\n",
    "\n",
    "    return pd.DataFrame({\n",
    "        'Model': model_name,\n",
    "        'Cross_Validation_Mean':precison_score,\n",
    "        'Cross_Validation_STD':precison_score1,\n",
    "        }).sort_values('Cross_Validation_Mean',ascending=False).reset_index(drop=True)"
   ]
  },
  {
   "cell_type": "code",
   "execution_count": 20,
   "metadata": {},
   "outputs": [
    {
     "name": "stdout",
     "output_type": "stream",
     "text": [
      "[10:44:31] WARNING: C:/Users/Administrator/workspace/xgboost-win64_release_1.4.0/src/learner.cc:1095: Starting in XGBoost 1.3.0, the default evaluation metric used with the objective 'binary:logistic' was changed from 'error' to 'logloss'. Explicitly set eval_metric if you'd like to restore the old behavior.\n",
      "[10:44:31] WARNING: C:/Users/Administrator/workspace/xgboost-win64_release_1.4.0/src/learner.cc:1095: Starting in XGBoost 1.3.0, the default evaluation metric used with the objective 'binary:logistic' was changed from 'error' to 'logloss'. Explicitly set eval_metric if you'd like to restore the old behavior.\n",
      "[10:44:31] WARNING: C:/Users/Administrator/workspace/xgboost-win64_release_1.4.0/src/learner.cc:1095: Starting in XGBoost 1.3.0, the default evaluation metric used with the objective 'binary:logistic' was changed from 'error' to 'logloss'. Explicitly set eval_metric if you'd like to restore the old behavior.\n",
      "[10:44:32] WARNING: C:/Users/Administrator/workspace/xgboost-win64_release_1.4.0/src/learner.cc:1095: Starting in XGBoost 1.3.0, the default evaluation metric used with the objective 'binary:logistic' was changed from 'error' to 'logloss'. Explicitly set eval_metric if you'd like to restore the old behavior.\n",
      "[10:44:32] WARNING: C:/Users/Administrator/workspace/xgboost-win64_release_1.4.0/src/learner.cc:1095: Starting in XGBoost 1.3.0, the default evaluation metric used with the objective 'binary:logistic' was changed from 'error' to 'logloss'. Explicitly set eval_metric if you'd like to restore the old behavior.\n"
     ]
    },
    {
     "data": {
      "text/html": [
       "<div>\n",
       "<style scoped>\n",
       "    .dataframe tbody tr th:only-of-type {\n",
       "        vertical-align: middle;\n",
       "    }\n",
       "\n",
       "    .dataframe tbody tr th {\n",
       "        vertical-align: top;\n",
       "    }\n",
       "\n",
       "    .dataframe thead th {\n",
       "        text-align: right;\n",
       "    }\n",
       "</style>\n",
       "<table border=\"1\" class=\"dataframe\">\n",
       "  <thead>\n",
       "    <tr style=\"text-align: right;\">\n",
       "      <th></th>\n",
       "      <th>Model</th>\n",
       "      <th>Cross_Validation_Mean</th>\n",
       "      <th>Cross_Validation_STD</th>\n",
       "    </tr>\n",
       "  </thead>\n",
       "  <tbody>\n",
       "    <tr>\n",
       "      <th>0</th>\n",
       "      <td>XGBoost Classifier</td>\n",
       "      <td>0.641425</td>\n",
       "      <td>0.012405</td>\n",
       "    </tr>\n",
       "    <tr>\n",
       "      <th>1</th>\n",
       "      <td>Random Forest Classifier</td>\n",
       "      <td>0.617417</td>\n",
       "      <td>0.006833</td>\n",
       "    </tr>\n",
       "    <tr>\n",
       "      <th>2</th>\n",
       "      <td>Logistic Regression</td>\n",
       "      <td>0.605617</td>\n",
       "      <td>0.000746</td>\n",
       "    </tr>\n",
       "    <tr>\n",
       "      <th>3</th>\n",
       "      <td>KNN</td>\n",
       "      <td>0.553510</td>\n",
       "      <td>0.016215</td>\n",
       "    </tr>\n",
       "    <tr>\n",
       "      <th>4</th>\n",
       "      <td>Decision Tree Regressor</td>\n",
       "      <td>-0.595005</td>\n",
       "      <td>0.063360</td>\n",
       "    </tr>\n",
       "  </tbody>\n",
       "</table>\n",
       "</div>"
      ],
      "text/plain": [
       "                      Model  Cross_Validation_Mean  Cross_Validation_STD\n",
       "0        XGBoost Classifier               0.641425              0.012405\n",
       "1  Random Forest Classifier               0.617417              0.006833\n",
       "2       Logistic Regression               0.605617              0.000746\n",
       "3                       KNN               0.553510              0.016215\n",
       "4   Decision Tree Regressor              -0.595005              0.063360"
      ]
     },
     "execution_count": 20,
     "metadata": {},
     "output_type": "execute_result"
    }
   ],
   "source": [
    "model_evaluation(models)"
   ]
  },
  {
   "cell_type": "markdown",
   "id": "b3a86e82",
   "metadata": {},
   "source": [
    "Random forest classifier has the better evaluation score among the other models"
   ]
  },
  {
   "cell_type": "code",
   "execution_count": 21,
   "id": "134e70e5",
   "metadata": {},
   "outputs": [
    {
     "name": "stdout",
     "output_type": "stream",
     "text": [
      "[10:44:33] WARNING: C:/Users/Administrator/workspace/xgboost-win64_release_1.4.0/src/learner.cc:1095: Starting in XGBoost 1.3.0, the default evaluation metric used with the objective 'binary:logistic' was changed from 'error' to 'logloss'. Explicitly set eval_metric if you'd like to restore the old behavior.\n"
     ]
    },
    {
     "data": {
      "text/html": [
       "<div>\n",
       "<style scoped>\n",
       "    .dataframe tbody tr th:only-of-type {\n",
       "        vertical-align: middle;\n",
       "    }\n",
       "\n",
       "    .dataframe tbody tr th {\n",
       "        vertical-align: top;\n",
       "    }\n",
       "\n",
       "    .dataframe thead th {\n",
       "        text-align: right;\n",
       "    }\n",
       "</style>\n",
       "<table border=\"1\" class=\"dataframe\">\n",
       "  <thead>\n",
       "    <tr style=\"text-align: right;\">\n",
       "      <th></th>\n",
       "      <th>Model</th>\n",
       "      <th>Accuracy_score</th>\n",
       "    </tr>\n",
       "  </thead>\n",
       "  <tbody>\n",
       "    <tr>\n",
       "      <th>0</th>\n",
       "      <td>XGBoost Classifier</td>\n",
       "      <td>0.680098</td>\n",
       "    </tr>\n",
       "    <tr>\n",
       "      <th>1</th>\n",
       "      <td>Random Forest Classifier</td>\n",
       "      <td>0.637363</td>\n",
       "    </tr>\n",
       "    <tr>\n",
       "      <th>2</th>\n",
       "      <td>Decision Tree Regressor</td>\n",
       "      <td>0.636142</td>\n",
       "    </tr>\n",
       "    <tr>\n",
       "      <th>3</th>\n",
       "      <td>Logistic Regression</td>\n",
       "      <td>0.622711</td>\n",
       "    </tr>\n",
       "    <tr>\n",
       "      <th>4</th>\n",
       "      <td>KNN</td>\n",
       "      <td>0.543346</td>\n",
       "    </tr>\n",
       "  </tbody>\n",
       "</table>\n",
       "</div>"
      ],
      "text/plain": [
       "                      Model  Accuracy_score\n",
       "0        XGBoost Classifier        0.680098\n",
       "1  Random Forest Classifier        0.637363\n",
       "2   Decision Tree Regressor        0.636142\n",
       "3       Logistic Regression        0.622711\n",
       "4                       KNN        0.543346"
      ]
     },
     "execution_count": 21,
     "metadata": {},
     "output_type": "execute_result"
    }
   ],
   "source": [
    "def acc_eval(model):\n",
    "    model_name=[]\n",
    "    precison_score=[]\n",
    "    for name, model in models:\n",
    "\n",
    "     model.fit(x_trainval, y_trainval)\n",
    "     y_pred = model.predict(x_test)\n",
    "     \n",
    "     precison_score.append(accuracy_score(y_test,y_pred))\n",
    "     model_name.append(name)\n",
    "\n",
    "    return pd.DataFrame({\n",
    "        'Model': model_name,\n",
    "        'Accuracy_score':precison_score,\n",
    "        }).sort_values('Accuracy_score',ascending=False).reset_index(drop=True)\n",
    "\n",
    "df = pd.DataFrame(acc_eval(models))\n",
    "df"
   ]
  },
  {
   "cell_type": "code",
   "execution_count": 22,
   "id": "9d744b5a",
   "metadata": {},
   "outputs": [
    {
     "name": "stdout",
     "output_type": "stream",
     "text": [
      "[10:44:35] WARNING: C:/Users/Administrator/workspace/xgboost-win64_release_1.4.0/src/learner.cc:1095: Starting in XGBoost 1.3.0, the default evaluation metric used with the objective 'binary:logistic' was changed from 'error' to 'logloss'. Explicitly set eval_metric if you'd like to restore the old behavior.\n"
     ]
    },
    {
     "data": {
      "image/png": "[encoded data removed]",
      "text/plain": [
       "<Figure size 648x288 with 1 Axes>"
      ]
     },
     "metadata": {
      "needs_background": "light"
     },
     "output_type": "display_data"
    }
   ],
   "source": [
    "plt.figure(figsize=(9,4))\n",
    "plt.xticks(rotation=10)\n",
    "sbn.barplot(data = acc_eval(models), x = 'Model', y = 'Accuracy_score')\n",
    "plt.title('Model Precision Score')\n",
    "plt.xlabel('Models' , size = 12); plt.ylabel('Accuracy Score', size = 12)\n",
    "plt.show()"
   ]
  },
  {
   "cell_type": "code",
   "execution_count": 23,
   "id": "6ebd65b2",
   "metadata": {},
   "outputs": [
    {
     "data": {
      "text/plain": [
       "62.393162393162385"
      ]
     },
     "execution_count": 23,
     "metadata": {},
     "output_type": "execute_result"
    }
   ],
   "source": [
    "df['Accuracy_score'].mean()*100"
   ]
  },
  {
   "cell_type": "markdown",
   "id": "e1bdbe4d",
   "metadata": {},
   "source": [
    "In the output score above show the average accuracy score is between 62.4%.But among the three model above random forest classifier has the highest score, so after this we will try to measure the performance of tree model in test due to the highest score."
   ]
  },
  {
   "cell_type": "markdown",
   "id": "2a505770",
   "metadata": {},
   "source": [
    "# Modelling performance in test"
   ]
  },
  {
   "cell_type": "code",
   "execution_count": 24,
   "id": "10ccc716",
   "metadata": {},
   "outputs": [
    {
     "data": {
      "text/plain": [
       "RandomForestClassifier(max_depth=3, max_features=2, n_estimators=300)"
      ]
     },
     "execution_count": 24,
     "metadata": {},
     "output_type": "execute_result"
    }
   ],
   "source": [
    "rf = RandomForestClassifier(n_estimators = 300, max_features = 2, max_depth = 3)\n",
    "rf.fit(x_trainval, y_trainval)"
   ]
  },
  {
   "cell_type": "code",
   "execution_count": 25,
   "id": "5009cb13",
   "metadata": {},
   "outputs": [],
   "source": [
    "y_pred = rf.predict(x_test)"
   ]
  },
  {
   "cell_type": "code",
   "execution_count": 26,
   "id": "57af014d",
   "metadata": {},
   "outputs": [
    {
     "data": {
      "text/plain": [
       "(<function sklearn.metrics._classification.f1_score(y_true, y_pred, *, labels=None, pos_label=1, average='binary', sample_weight=None, zero_division='warn')>,\n",
       " <function sklearn.metrics._classification.recall_score(y_true, y_pred, *, labels=None, pos_label=1, average='binary', sample_weight=None, zero_division='warn')>,\n",
       " <function sklearn.metrics._classification.precision_score(y_true, y_pred, *, labels=None, pos_label=1, average='binary', sample_weight=None, zero_division='warn')>)"
      ]
     },
     "execution_count": 26,
     "metadata": {},
     "output_type": "execute_result"
    }
   ],
   "source": [
    "f1_score,recall_score,precision_score"
   ]
  },
  {
   "cell_type": "code",
   "execution_count": 27,
   "id": "beafc3c1",
   "metadata": {},
   "outputs": [
    {
     "name": "stdout",
     "output_type": "stream",
     "text": [
      "0.08562691131498472\n",
      "0.045307443365695796\n",
      "0.7777777777777778\n"
     ]
    }
   ],
   "source": [
    "print(f1_score(y_test,y_pred))\n",
    "print(recall_score(y_test,y_pred))\n",
    "print(precision_score(y_test,y_pred))"
   ]
  },
  {
   "cell_type": "code",
   "execution_count": 28,
   "id": "00165181",
   "metadata": {},
   "outputs": [
    {
     "name": "stdout",
     "output_type": "stream",
     "text": [
      "              precision    recall  f1-score   support\n",
      "\n",
      "           0       0.63      0.99      0.77       510\n",
      "           1       0.78      0.05      0.09       309\n",
      "\n",
      "    accuracy                           0.63       819\n",
      "   macro avg       0.70      0.52      0.43       819\n",
      "weighted avg       0.69      0.63      0.51       819\n",
      "\n"
     ]
    }
   ],
   "source": [
    "print(classification_report(y_test,y_pred))"
   ]
  },
  {
   "cell_type": "code",
   "execution_count": 29,
   "id": "775012b4",
   "metadata": {},
   "outputs": [
    {
     "data": {
      "text/plain": [
       "<sklearn.metrics._plot.roc_curve.RocCurveDisplay at 0x1a1d106ac70>"
      ]
     },
     "execution_count": 29,
     "metadata": {},
     "output_type": "execute_result"
    },
    {
     "data": {
      "image/png": "[encoded data removed]",
      "text/plain": [
       "<Figure size 432x288 with 1 Axes>"
      ]
     },
     "metadata": {
      "needs_background": "light"
     },
     "output_type": "display_data"
    }
   ],
   "source": [
    "plot_roc_curve(rf, x_test, y_test)"
   ]
  },
  {
   "cell_type": "code",
   "execution_count": 30,
   "id": "b714afd6",
   "metadata": {},
   "outputs": [
    {
     "data": {
      "text/plain": [
       "<sklearn.metrics._plot.precision_recall_curve.PrecisionRecallDisplay at 0x1a1d1004850>"
      ]
     },
     "execution_count": 30,
     "metadata": {},
     "output_type": "execute_result"
    },
    {
     "data": {
      "image/png": "[encoded data removed]",
      "text/plain": [
       "<Figure size 432x288 with 1 Axes>"
      ]
     },
     "metadata": {
      "needs_background": "light"
     },
     "output_type": "display_data"
    }
   ],
   "source": [
    "plot_precision_recall_curve(rf, x_test, y_test)"
   ]
  },
  {
   "cell_type": "code",
   "execution_count": 31,
   "id": "3556f6c7",
   "metadata": {},
   "outputs": [
    {
     "data": {
      "text/plain": [
       "655.2"
      ]
     },
     "execution_count": 31,
     "metadata": {},
     "output_type": "execute_result"
    }
   ],
   "source": [
    "x.shape[0]*0.2"
   ]
  },
  {
   "cell_type": "markdown",
   "id": "7a33e36e",
   "metadata": {},
   "source": [
    "# Data Splitting 2"
   ]
  },
  {
   "cell_type": "code",
   "execution_count": 32,
   "id": "b32feef0",
   "metadata": {},
   "outputs": [],
   "source": [
    "x_train,x_val,y_train,y_val = train_test_split(\n",
    "    x_trainval,\n",
    "    y_trainval,\n",
    "    stratify = y_trainval, #agar menjaga proporsi default pada train dan test sama\n",
    "    test_size = 655, \n",
    "    random_state =42\n",
    ")"
   ]
  },
  {
   "cell_type": "markdown",
   "id": "6e19eca6",
   "metadata": {},
   "source": [
    "## Hyperparameter tuning choose"
   ]
  },
  {
   "cell_type": "code",
   "execution_count": 33,
   "id": "f0997816",
   "metadata": {},
   "outputs": [],
   "source": [
    "hyper_param = {\n",
    "    'n_estimators' : [100,200,300,400], #makin kecil angka makin overfitting dan sebaliknya maka underfitting #panjang 4\n",
    "    'max_features' : [2,4],\n",
    "    'max_depth' : [2,3,4,5], #panjang 2\n",
    "}\n",
    "#berarti mencoba 72 kombinasi\n",
    "#pilih 20 dari 72\n",
    "rf = RandomForestClassifier(n_estimators = 300, max_features = 2, max_depth = 3)\n",
    "random = RandomizedSearchCV(\n",
    "    rf,\n",
    "    param_distributions = hyper_param,\n",
    "    n_iter = 20,\n",
    "    cv = 5,\n",
    "    scoring = 'r2',\n",
    "    random_state = 42,\n",
    "    n_jobs = -1\n",
    ")"
   ]
  },
  {
   "cell_type": "code",
   "execution_count": 34,
   "id": "e0404c8e",
   "metadata": {},
   "outputs": [
    {
     "data": {
      "text/plain": [
       "RandomizedSearchCV(cv=5,\n",
       "                   estimator=RandomForestClassifier(max_depth=3, max_features=2,\n",
       "                                                    n_estimators=300),\n",
       "                   n_iter=20, n_jobs=-1,\n",
       "                   param_distributions={'max_depth': [2, 3, 4, 5],\n",
       "                                        'max_features': [2, 4],\n",
       "                                        'n_estimators': [100, 200, 300, 400]},\n",
       "                   random_state=42, scoring='r2')"
      ]
     },
     "execution_count": 34,
     "metadata": {},
     "output_type": "execute_result"
    }
   ],
   "source": [
    "random.fit(x_train, y_train)"
   ]
  },
  {
   "cell_type": "code",
   "execution_count": 35,
   "id": "c2d88288",
   "metadata": {},
   "outputs": [
    {
     "data": {
      "text/plain": [
       "-0.4960961500842229"
      ]
     },
     "execution_count": 35,
     "metadata": {},
     "output_type": "execute_result"
    }
   ],
   "source": [
    "random.best_score_"
   ]
  },
  {
   "cell_type": "code",
   "execution_count": 36,
   "id": "c8b8b978",
   "metadata": {},
   "outputs": [
    {
     "data": {
      "text/plain": [
       "{'n_estimators': 300, 'max_features': 4, 'max_depth': 5}"
      ]
     },
     "execution_count": 36,
     "metadata": {},
     "output_type": "execute_result"
    }
   ],
   "source": [
    "random.best_params_"
   ]
  },
  {
   "cell_type": "code",
   "execution_count": 37,
   "id": "1260efe2",
   "metadata": {
    "scrolled": true
   },
   "outputs": [
    {
     "data": {
      "text/html": [
       "<div>\n",
       "<style scoped>\n",
       "    .dataframe tbody tr th:only-of-type {\n",
       "        vertical-align: middle;\n",
       "    }\n",
       "\n",
       "    .dataframe tbody tr th {\n",
       "        vertical-align: top;\n",
       "    }\n",
       "\n",
       "    .dataframe thead th {\n",
       "        text-align: right;\n",
       "    }\n",
       "</style>\n",
       "<table border=\"1\" class=\"dataframe\">\n",
       "  <thead>\n",
       "    <tr style=\"text-align: right;\">\n",
       "      <th></th>\n",
       "      <th>mean_fit_time</th>\n",
       "      <th>std_fit_time</th>\n",
       "      <th>mean_score_time</th>\n",
       "      <th>std_score_time</th>\n",
       "      <th>param_n_estimators</th>\n",
       "      <th>param_max_features</th>\n",
       "      <th>param_max_depth</th>\n",
       "      <th>params</th>\n",
       "      <th>split0_test_score</th>\n",
       "      <th>split1_test_score</th>\n",
       "      <th>split2_test_score</th>\n",
       "      <th>split3_test_score</th>\n",
       "      <th>split4_test_score</th>\n",
       "      <th>mean_test_score</th>\n",
       "      <th>std_test_score</th>\n",
       "      <th>rank_test_score</th>\n",
       "    </tr>\n",
       "  </thead>\n",
       "  <tbody>\n",
       "    <tr>\n",
       "      <th>0</th>\n",
       "      <td>0.506932</td>\n",
       "      <td>0.009726</td>\n",
       "      <td>0.023229</td>\n",
       "      <td>0.001472</td>\n",
       "      <td>200</td>\n",
       "      <td>4</td>\n",
       "      <td>5</td>\n",
       "      <td>{'n_estimators': 200, 'max_features': 4, 'max_...</td>\n",
       "      <td>-0.381407</td>\n",
       "      <td>-0.528582</td>\n",
       "      <td>-0.569970</td>\n",
       "      <td>-0.523453</td>\n",
       "      <td>-0.488564</td>\n",
       "      <td>-0.498395</td>\n",
       "      <td>0.063945</td>\n",
       "      <td>2</td>\n",
       "    </tr>\n",
       "    <tr>\n",
       "      <th>1</th>\n",
       "      <td>0.791187</td>\n",
       "      <td>0.012278</td>\n",
       "      <td>0.040450</td>\n",
       "      <td>0.001321</td>\n",
       "      <td>400</td>\n",
       "      <td>4</td>\n",
       "      <td>3</td>\n",
       "      <td>{'n_estimators': 400, 'max_features': 4, 'max_...</td>\n",
       "      <td>-0.532317</td>\n",
       "      <td>-0.586482</td>\n",
       "      <td>-0.593229</td>\n",
       "      <td>-0.628117</td>\n",
       "      <td>-0.546711</td>\n",
       "      <td>-0.577371</td>\n",
       "      <td>0.034292</td>\n",
       "      <td>8</td>\n",
       "    </tr>\n",
       "    <tr>\n",
       "      <th>2</th>\n",
       "      <td>0.182527</td>\n",
       "      <td>0.003520</td>\n",
       "      <td>0.012215</td>\n",
       "      <td>0.000400</td>\n",
       "      <td>100</td>\n",
       "      <td>2</td>\n",
       "      <td>5</td>\n",
       "      <td>{'n_estimators': 100, 'max_features': 2, 'max_...</td>\n",
       "      <td>-0.567143</td>\n",
       "      <td>-0.540162</td>\n",
       "      <td>-0.628117</td>\n",
       "      <td>-0.569970</td>\n",
       "      <td>-0.535082</td>\n",
       "      <td>-0.568095</td>\n",
       "      <td>0.033098</td>\n",
       "      <td>6</td>\n",
       "    </tr>\n",
       "    <tr>\n",
       "      <th>3</th>\n",
       "      <td>0.355844</td>\n",
       "      <td>0.008913</td>\n",
       "      <td>0.023730</td>\n",
       "      <td>0.002382</td>\n",
       "      <td>200</td>\n",
       "      <td>2</td>\n",
       "      <td>4</td>\n",
       "      <td>{'n_estimators': 200, 'max_features': 2, 'max_...</td>\n",
       "      <td>-0.601968</td>\n",
       "      <td>-0.563322</td>\n",
       "      <td>-0.558341</td>\n",
       "      <td>-0.628117</td>\n",
       "      <td>-0.593229</td>\n",
       "      <td>-0.588995</td>\n",
       "      <td>0.025751</td>\n",
       "      <td>11</td>\n",
       "    </tr>\n",
       "    <tr>\n",
       "      <th>4</th>\n",
       "      <td>0.170613</td>\n",
       "      <td>0.012277</td>\n",
       "      <td>0.012315</td>\n",
       "      <td>0.002161</td>\n",
       "      <td>100</td>\n",
       "      <td>2</td>\n",
       "      <td>3</td>\n",
       "      <td>{'n_estimators': 100, 'max_features': 2, 'max_...</td>\n",
       "      <td>-0.625185</td>\n",
       "      <td>-0.563322</td>\n",
       "      <td>-0.581600</td>\n",
       "      <td>-0.628117</td>\n",
       "      <td>-0.639747</td>\n",
       "      <td>-0.607594</td>\n",
       "      <td>0.029665</td>\n",
       "      <td>12</td>\n",
       "    </tr>\n",
       "    <tr>\n",
       "      <th>5</th>\n",
       "      <td>0.307183</td>\n",
       "      <td>0.005360</td>\n",
       "      <td>0.020526</td>\n",
       "      <td>0.000776</td>\n",
       "      <td>200</td>\n",
       "      <td>2</td>\n",
       "      <td>3</td>\n",
       "      <td>{'n_estimators': 200, 'max_features': 2, 'max_...</td>\n",
       "      <td>-0.636793</td>\n",
       "      <td>-0.667543</td>\n",
       "      <td>-0.616488</td>\n",
       "      <td>-0.628117</td>\n",
       "      <td>-0.616488</td>\n",
       "      <td>-0.633086</td>\n",
       "      <td>0.018851</td>\n",
       "      <td>16</td>\n",
       "    </tr>\n",
       "    <tr>\n",
       "      <th>6</th>\n",
       "      <td>0.736218</td>\n",
       "      <td>0.029450</td>\n",
       "      <td>0.033041</td>\n",
       "      <td>0.001380</td>\n",
       "      <td>300</td>\n",
       "      <td>4</td>\n",
       "      <td>5</td>\n",
       "      <td>{'n_estimators': 300, 'max_features': 4, 'max_...</td>\n",
       "      <td>-0.416233</td>\n",
       "      <td>-0.482261</td>\n",
       "      <td>-0.523453</td>\n",
       "      <td>-0.581600</td>\n",
       "      <td>-0.476935</td>\n",
       "      <td>-0.496096</td>\n",
       "      <td>0.054765</td>\n",
       "      <td>1</td>\n",
       "    </tr>\n",
       "    <tr>\n",
       "      <th>7</th>\n",
       "      <td>0.388084</td>\n",
       "      <td>0.008575</td>\n",
       "      <td>0.024030</td>\n",
       "      <td>0.002305</td>\n",
       "      <td>200</td>\n",
       "      <td>2</td>\n",
       "      <td>5</td>\n",
       "      <td>{'n_estimators': 200, 'max_features': 2, 'max_...</td>\n",
       "      <td>-0.543926</td>\n",
       "      <td>-0.574902</td>\n",
       "      <td>-0.604859</td>\n",
       "      <td>-0.569970</td>\n",
       "      <td>-0.535082</td>\n",
       "      <td>-0.565748</td>\n",
       "      <td>0.024690</td>\n",
       "      <td>5</td>\n",
       "    </tr>\n",
       "    <tr>\n",
       "      <th>8</th>\n",
       "      <td>0.204355</td>\n",
       "      <td>0.008522</td>\n",
       "      <td>0.012916</td>\n",
       "      <td>0.001282</td>\n",
       "      <td>100</td>\n",
       "      <td>4</td>\n",
       "      <td>3</td>\n",
       "      <td>{'n_estimators': 100, 'max_features': 4, 'max_...</td>\n",
       "      <td>-0.543926</td>\n",
       "      <td>-0.586482</td>\n",
       "      <td>-0.581600</td>\n",
       "      <td>-0.593229</td>\n",
       "      <td>-0.581600</td>\n",
       "      <td>-0.577367</td>\n",
       "      <td>0.017256</td>\n",
       "      <td>7</td>\n",
       "    </tr>\n",
       "    <tr>\n",
       "      <th>9</th>\n",
       "      <td>0.177421</td>\n",
       "      <td>0.016792</td>\n",
       "      <td>0.012115</td>\n",
       "      <td>0.001465</td>\n",
       "      <td>100</td>\n",
       "      <td>2</td>\n",
       "      <td>2</td>\n",
       "      <td>{'n_estimators': 100, 'max_features': 2, 'max_...</td>\n",
       "      <td>-0.636793</td>\n",
       "      <td>-0.655963</td>\n",
       "      <td>-0.651376</td>\n",
       "      <td>-0.651376</td>\n",
       "      <td>-0.663006</td>\n",
       "      <td>-0.651703</td>\n",
       "      <td>0.008584</td>\n",
       "      <td>20</td>\n",
       "    </tr>\n",
       "    <tr>\n",
       "      <th>10</th>\n",
       "      <td>0.175318</td>\n",
       "      <td>0.011954</td>\n",
       "      <td>0.011815</td>\n",
       "      <td>0.001031</td>\n",
       "      <td>100</td>\n",
       "      <td>4</td>\n",
       "      <td>2</td>\n",
       "      <td>{'n_estimators': 100, 'max_features': 4, 'max_...</td>\n",
       "      <td>-0.578751</td>\n",
       "      <td>-0.632803</td>\n",
       "      <td>-0.593229</td>\n",
       "      <td>-0.628117</td>\n",
       "      <td>-0.628117</td>\n",
       "      <td>-0.612204</td>\n",
       "      <td>0.021954</td>\n",
       "      <td>13</td>\n",
       "    </tr>\n",
       "    <tr>\n",
       "      <th>11</th>\n",
       "      <td>0.196244</td>\n",
       "      <td>0.015052</td>\n",
       "      <td>0.012215</td>\n",
       "      <td>0.000679</td>\n",
       "      <td>100</td>\n",
       "      <td>2</td>\n",
       "      <td>4</td>\n",
       "      <td>{'n_estimators': 100, 'max_features': 2, 'max_...</td>\n",
       "      <td>-0.543926</td>\n",
       "      <td>-0.598062</td>\n",
       "      <td>-0.581600</td>\n",
       "      <td>-0.604859</td>\n",
       "      <td>-0.593229</td>\n",
       "      <td>-0.584335</td>\n",
       "      <td>0.021583</td>\n",
       "      <td>10</td>\n",
       "    </tr>\n",
       "    <tr>\n",
       "      <th>12</th>\n",
       "      <td>0.333215</td>\n",
       "      <td>0.003389</td>\n",
       "      <td>0.020726</td>\n",
       "      <td>0.000679</td>\n",
       "      <td>200</td>\n",
       "      <td>4</td>\n",
       "      <td>2</td>\n",
       "      <td>{'n_estimators': 200, 'max_features': 4, 'max_...</td>\n",
       "      <td>-0.590360</td>\n",
       "      <td>-0.667543</td>\n",
       "      <td>-0.581600</td>\n",
       "      <td>-0.628117</td>\n",
       "      <td>-0.616488</td>\n",
       "      <td>-0.616822</td>\n",
       "      <td>0.030467</td>\n",
       "      <td>14</td>\n",
       "    </tr>\n",
       "    <tr>\n",
       "      <th>13</th>\n",
       "      <td>0.386482</td>\n",
       "      <td>0.005373</td>\n",
       "      <td>0.021026</td>\n",
       "      <td>0.001142</td>\n",
       "      <td>200</td>\n",
       "      <td>4</td>\n",
       "      <td>3</td>\n",
       "      <td>{'n_estimators': 200, 'max_features': 4, 'max_...</td>\n",
       "      <td>-0.543926</td>\n",
       "      <td>-0.609643</td>\n",
       "      <td>-0.593229</td>\n",
       "      <td>-0.604859</td>\n",
       "      <td>-0.558341</td>\n",
       "      <td>-0.581999</td>\n",
       "      <td>0.026162</td>\n",
       "      <td>9</td>\n",
       "    </tr>\n",
       "    <tr>\n",
       "      <th>14</th>\n",
       "      <td>0.611362</td>\n",
       "      <td>0.008668</td>\n",
       "      <td>0.042653</td>\n",
       "      <td>0.006553</td>\n",
       "      <td>400</td>\n",
       "      <td>2</td>\n",
       "      <td>3</td>\n",
       "      <td>{'n_estimators': 400, 'max_features': 2, 'max_...</td>\n",
       "      <td>-0.636793</td>\n",
       "      <td>-0.655963</td>\n",
       "      <td>-0.581600</td>\n",
       "      <td>-0.628117</td>\n",
       "      <td>-0.604859</td>\n",
       "      <td>-0.621466</td>\n",
       "      <td>0.025824</td>\n",
       "      <td>15</td>\n",
       "    </tr>\n",
       "    <tr>\n",
       "      <th>15</th>\n",
       "      <td>0.911837</td>\n",
       "      <td>0.017263</td>\n",
       "      <td>0.042153</td>\n",
       "      <td>0.002857</td>\n",
       "      <td>400</td>\n",
       "      <td>4</td>\n",
       "      <td>4</td>\n",
       "      <td>{'n_estimators': 400, 'max_features': 4, 'max_...</td>\n",
       "      <td>-0.497492</td>\n",
       "      <td>-0.505421</td>\n",
       "      <td>-0.581600</td>\n",
       "      <td>-0.535082</td>\n",
       "      <td>-0.465306</td>\n",
       "      <td>-0.516980</td>\n",
       "      <td>0.039210</td>\n",
       "      <td>3</td>\n",
       "    </tr>\n",
       "    <tr>\n",
       "      <th>16</th>\n",
       "      <td>0.286857</td>\n",
       "      <td>0.006550</td>\n",
       "      <td>0.020926</td>\n",
       "      <td>0.000584</td>\n",
       "      <td>200</td>\n",
       "      <td>2</td>\n",
       "      <td>2</td>\n",
       "      <td>{'n_estimators': 200, 'max_features': 2, 'max_...</td>\n",
       "      <td>-0.648402</td>\n",
       "      <td>-0.655963</td>\n",
       "      <td>-0.651376</td>\n",
       "      <td>-0.628117</td>\n",
       "      <td>-0.651376</td>\n",
       "      <td>-0.647047</td>\n",
       "      <td>0.009769</td>\n",
       "      <td>17</td>\n",
       "    </tr>\n",
       "    <tr>\n",
       "      <th>17</th>\n",
       "      <td>0.435142</td>\n",
       "      <td>0.008362</td>\n",
       "      <td>0.030538</td>\n",
       "      <td>0.000838</td>\n",
       "      <td>300</td>\n",
       "      <td>2</td>\n",
       "      <td>2</td>\n",
       "      <td>{'n_estimators': 300, 'max_features': 2, 'max_...</td>\n",
       "      <td>-0.648402</td>\n",
       "      <td>-0.655963</td>\n",
       "      <td>-0.651376</td>\n",
       "      <td>-0.639747</td>\n",
       "      <td>-0.651376</td>\n",
       "      <td>-0.649373</td>\n",
       "      <td>0.005386</td>\n",
       "      <td>18</td>\n",
       "    </tr>\n",
       "    <tr>\n",
       "      <th>18</th>\n",
       "      <td>0.559097</td>\n",
       "      <td>0.008343</td>\n",
       "      <td>0.033342</td>\n",
       "      <td>0.000679</td>\n",
       "      <td>300</td>\n",
       "      <td>2</td>\n",
       "      <td>5</td>\n",
       "      <td>{'n_estimators': 300, 'max_features': 2, 'max_...</td>\n",
       "      <td>-0.543926</td>\n",
       "      <td>-0.574902</td>\n",
       "      <td>-0.546711</td>\n",
       "      <td>-0.569970</td>\n",
       "      <td>-0.546711</td>\n",
       "      <td>-0.556444</td>\n",
       "      <td>0.013190</td>\n",
       "      <td>4</td>\n",
       "    </tr>\n",
       "    <tr>\n",
       "      <th>19</th>\n",
       "      <td>0.584333</td>\n",
       "      <td>0.020324</td>\n",
       "      <td>0.039149</td>\n",
       "      <td>0.001499</td>\n",
       "      <td>400</td>\n",
       "      <td>2</td>\n",
       "      <td>2</td>\n",
       "      <td>{'n_estimators': 400, 'max_features': 2, 'max_...</td>\n",
       "      <td>-0.648402</td>\n",
       "      <td>-0.655963</td>\n",
       "      <td>-0.651376</td>\n",
       "      <td>-0.663006</td>\n",
       "      <td>-0.639747</td>\n",
       "      <td>-0.651699</td>\n",
       "      <td>0.007744</td>\n",
       "      <td>19</td>\n",
       "    </tr>\n",
       "  </tbody>\n",
       "</table>\n",
       "</div>"
      ],
      "text/plain": [
       "    mean_fit_time  std_fit_time  mean_score_time  std_score_time  \\\n",
       "0        0.506932      0.009726         0.023229        0.001472   \n",
       "1        0.791187      0.012278         0.040450        0.001321   \n",
       "2        0.182527      0.003520         0.012215        0.000400   \n",
       "3        0.355844      0.008913         0.023730        0.002382   \n",
       "4        0.170613      0.012277         0.012315        0.002161   \n",
       "5        0.307183      0.005360         0.020526        0.000776   \n",
       "6        0.736218      0.029450         0.033041        0.001380   \n",
       "7        0.388084      0.008575         0.024030        0.002305   \n",
       "8        0.204355      0.008522         0.012916        0.001282   \n",
       "9        0.177421      0.016792         0.012115        0.001465   \n",
       "10       0.175318      0.011954         0.011815        0.001031   \n",
       "11       0.196244      0.015052         0.012215        0.000679   \n",
       "12       0.333215      0.003389         0.020726        0.000679   \n",
       "13       0.386482      0.005373         0.021026        0.001142   \n",
       "14       0.611362      0.008668         0.042653        0.006553   \n",
       "15       0.911837      0.017263         0.042153        0.002857   \n",
       "16       0.286857      0.006550         0.020926        0.000584   \n",
       "17       0.435142      0.008362         0.030538        0.000838   \n",
       "18       0.559097      0.008343         0.033342        0.000679   \n",
       "19       0.584333      0.020324         0.039149        0.001499   \n",
       "\n",
       "   param_n_estimators param_max_features param_max_depth  \\\n",
       "0                 200                  4               5   \n",
       "1                 400                  4               3   \n",
       "2                 100                  2               5   \n",
       "3                 200                  2               4   \n",
       "4                 100                  2               3   \n",
       "5                 200                  2               3   \n",
       "6                 300                  4               5   \n",
       "7                 200                  2               5   \n",
       "8                 100                  4               3   \n",
       "9                 100                  2               2   \n",
       "10                100                  4               2   \n",
       "11                100                  2               4   \n",
       "12                200                  4               2   \n",
       "13                200                  4               3   \n",
       "14                400                  2               3   \n",
       "15                400                  4               4   \n",
       "16                200                  2               2   \n",
       "17                300                  2               2   \n",
       "18                300                  2               5   \n",
       "19                400                  2               2   \n",
       "\n",
       "                                               params  split0_test_score  \\\n",
       "0   {'n_estimators': 200, 'max_features': 4, 'max_...          -0.381407   \n",
       "1   {'n_estimators': 400, 'max_features': 4, 'max_...          -0.532317   \n",
       "2   {'n_estimators': 100, 'max_features': 2, 'max_...          -0.567143   \n",
       "3   {'n_estimators': 200, 'max_features': 2, 'max_...          -0.601968   \n",
       "4   {'n_estimators': 100, 'max_features': 2, 'max_...          -0.625185   \n",
       "5   {'n_estimators': 200, 'max_features': 2, 'max_...          -0.636793   \n",
       "6   {'n_estimators': 300, 'max_features': 4, 'max_...          -0.416233   \n",
       "7   {'n_estimators': 200, 'max_features': 2, 'max_...          -0.543926   \n",
       "8   {'n_estimators': 100, 'max_features': 4, 'max_...          -0.543926   \n",
       "9   {'n_estimators': 100, 'max_features': 2, 'max_...          -0.636793   \n",
       "10  {'n_estimators': 100, 'max_features': 4, 'max_...          -0.578751   \n",
       "11  {'n_estimators': 100, 'max_features': 2, 'max_...          -0.543926   \n",
       "12  {'n_estimators': 200, 'max_features': 4, 'max_...          -0.590360   \n",
       "13  {'n_estimators': 200, 'max_features': 4, 'max_...          -0.543926   \n",
       "14  {'n_estimators': 400, 'max_features': 2, 'max_...          -0.636793   \n",
       "15  {'n_estimators': 400, 'max_features': 4, 'max_...          -0.497492   \n",
       "16  {'n_estimators': 200, 'max_features': 2, 'max_...          -0.648402   \n",
       "17  {'n_estimators': 300, 'max_features': 2, 'max_...          -0.648402   \n",
       "18  {'n_estimators': 300, 'max_features': 2, 'max_...          -0.543926   \n",
       "19  {'n_estimators': 400, 'max_features': 2, 'max_...          -0.648402   \n",
       "\n",
       "    split1_test_score  split2_test_score  split3_test_score  \\\n",
       "0           -0.528582          -0.569970          -0.523453   \n",
       "1           -0.586482          -0.593229          -0.628117   \n",
       "2           -0.540162          -0.628117          -0.569970   \n",
       "3           -0.563322          -0.558341          -0.628117   \n",
       "4           -0.563322          -0.581600          -0.628117   \n",
       "5           -0.667543          -0.616488          -0.628117   \n",
       "6           -0.482261          -0.523453          -0.581600   \n",
       "7           -0.574902          -0.604859          -0.569970   \n",
       "8           -0.586482          -0.581600          -0.593229   \n",
       "9           -0.655963          -0.651376          -0.651376   \n",
       "10          -0.632803          -0.593229          -0.628117   \n",
       "11          -0.598062          -0.581600          -0.604859   \n",
       "12          -0.667543          -0.581600          -0.628117   \n",
       "13          -0.609643          -0.593229          -0.604859   \n",
       "14          -0.655963          -0.581600          -0.628117   \n",
       "15          -0.505421          -0.581600          -0.535082   \n",
       "16          -0.655963          -0.651376          -0.628117   \n",
       "17          -0.655963          -0.651376          -0.639747   \n",
       "18          -0.574902          -0.546711          -0.569970   \n",
       "19          -0.655963          -0.651376          -0.663006   \n",
       "\n",
       "    split4_test_score  mean_test_score  std_test_score  rank_test_score  \n",
       "0           -0.488564        -0.498395        0.063945                2  \n",
       "1           -0.546711        -0.577371        0.034292                8  \n",
       "2           -0.535082        -0.568095        0.033098                6  \n",
       "3           -0.593229        -0.588995        0.025751               11  \n",
       "4           -0.639747        -0.607594        0.029665               12  \n",
       "5           -0.616488        -0.633086        0.018851               16  \n",
       "6           -0.476935        -0.496096        0.054765                1  \n",
       "7           -0.535082        -0.565748        0.024690                5  \n",
       "8           -0.581600        -0.577367        0.017256                7  \n",
       "9           -0.663006        -0.651703        0.008584               20  \n",
       "10          -0.628117        -0.612204        0.021954               13  \n",
       "11          -0.593229        -0.584335        0.021583               10  \n",
       "12          -0.616488        -0.616822        0.030467               14  \n",
       "13          -0.558341        -0.581999        0.026162                9  \n",
       "14          -0.604859        -0.621466        0.025824               15  \n",
       "15          -0.465306        -0.516980        0.039210                3  \n",
       "16          -0.651376        -0.647047        0.009769               17  \n",
       "17          -0.651376        -0.649373        0.005386               18  \n",
       "18          -0.546711        -0.556444        0.013190                4  \n",
       "19          -0.639747        -0.651699        0.007744               19  "
      ]
     },
     "execution_count": 37,
     "metadata": {},
     "output_type": "execute_result"
    }
   ],
   "source": [
    "hasilcv=pd.DataFrame(random.cv_results_)\n",
    "hasilcv"
   ]
  },
  {
   "cell_type": "code",
   "execution_count": 38,
   "id": "f4cf3abf",
   "metadata": {},
   "outputs": [
    {
     "data": {
      "text/html": [
       "<div>\n",
       "<style scoped>\n",
       "    .dataframe tbody tr th:only-of-type {\n",
       "        vertical-align: middle;\n",
       "    }\n",
       "\n",
       "    .dataframe tbody tr th {\n",
       "        vertical-align: top;\n",
       "    }\n",
       "\n",
       "    .dataframe thead th {\n",
       "        text-align: right;\n",
       "    }\n",
       "</style>\n",
       "<table border=\"1\" class=\"dataframe\">\n",
       "  <thead>\n",
       "    <tr style=\"text-align: right;\">\n",
       "      <th></th>\n",
       "      <th>mean_fit_time</th>\n",
       "      <th>std_fit_time</th>\n",
       "      <th>mean_score_time</th>\n",
       "      <th>std_score_time</th>\n",
       "      <th>param_n_estimators</th>\n",
       "      <th>param_max_features</th>\n",
       "      <th>param_max_depth</th>\n",
       "      <th>params</th>\n",
       "      <th>split0_test_score</th>\n",
       "      <th>split1_test_score</th>\n",
       "      <th>split2_test_score</th>\n",
       "      <th>split3_test_score</th>\n",
       "      <th>split4_test_score</th>\n",
       "      <th>mean_test_score</th>\n",
       "      <th>std_test_score</th>\n",
       "      <th>rank_test_score</th>\n",
       "    </tr>\n",
       "  </thead>\n",
       "  <tbody>\n",
       "    <tr>\n",
       "      <th>6</th>\n",
       "      <td>0.736218</td>\n",
       "      <td>0.02945</td>\n",
       "      <td>0.033041</td>\n",
       "      <td>0.00138</td>\n",
       "      <td>300</td>\n",
       "      <td>4</td>\n",
       "      <td>5</td>\n",
       "      <td>{'n_estimators': 300, 'max_features': 4, 'max_...</td>\n",
       "      <td>-0.416233</td>\n",
       "      <td>-0.482261</td>\n",
       "      <td>-0.523453</td>\n",
       "      <td>-0.5816</td>\n",
       "      <td>-0.476935</td>\n",
       "      <td>-0.496096</td>\n",
       "      <td>0.054765</td>\n",
       "      <td>1</td>\n",
       "    </tr>\n",
       "  </tbody>\n",
       "</table>\n",
       "</div>"
      ],
      "text/plain": [
       "   mean_fit_time  std_fit_time  mean_score_time  std_score_time  \\\n",
       "6       0.736218       0.02945         0.033041         0.00138   \n",
       "\n",
       "  param_n_estimators param_max_features param_max_depth  \\\n",
       "6                300                  4               5   \n",
       "\n",
       "                                              params  split0_test_score  \\\n",
       "6  {'n_estimators': 300, 'max_features': 4, 'max_...          -0.416233   \n",
       "\n",
       "   split1_test_score  split2_test_score  split3_test_score  split4_test_score  \\\n",
       "6          -0.482261          -0.523453            -0.5816          -0.476935   \n",
       "\n",
       "   mean_test_score  std_test_score  rank_test_score  \n",
       "6        -0.496096        0.054765                1  "
      ]
     },
     "execution_count": 38,
     "metadata": {},
     "output_type": "execute_result"
    }
   ],
   "source": [
    "hasilcv[hasilcv['param_n_estimators']==300][hasilcv['param_max_features']==4][hasilcv['param_max_depth']==5]"
   ]
  },
  {
   "cell_type": "markdown",
   "id": "e5aaaf3c",
   "metadata": {},
   "source": [
    "# Model Before And After"
   ]
  },
  {
   "cell_type": "code",
   "execution_count": 39,
   "id": "a005b8e4",
   "metadata": {},
   "outputs": [],
   "source": [
    "rf = RandomForestClassifier(n_estimators = 300, max_features = 2, max_depth = 3)\n",
    "rf2 = RandomForestClassifier(n_estimators = 300, max_features = 4, max_depth = 5)"
   ]
  },
  {
   "cell_type": "code",
   "execution_count": 40,
   "id": "e0a23938",
   "metadata": {},
   "outputs": [],
   "source": [
    "def final_eval(model):\n",
    "    model.fit(x_train, y_train)\n",
    "    y_pred = model.predict(x_test)\n",
    "    print('Mean squared error score =',mean_squared_error(y_test,y_pred))\n",
    "    print('R2 score =',r2_score(y_test,y_pred))\n",
    "    print('Precision score =',precision_score(y_test,y_pred))"
   ]
  },
  {
   "cell_type": "code",
   "execution_count": 41,
   "id": "133dc1f2",
   "metadata": {},
   "outputs": [
    {
     "name": "stdout",
     "output_type": "stream",
     "text": [
      "Mean squared error score = 0.3626373626373626\n",
      "R2 score = -0.5435179897201601\n",
      "Precision score = 0.875\n"
     ]
    }
   ],
   "source": [
    "final_eval(rf)"
   ]
  },
  {
   "cell_type": "code",
   "execution_count": 42,
   "id": "bbc1055a",
   "metadata": {},
   "outputs": [
    {
     "name": "stdout",
     "output_type": "stream",
     "text": [
      "Mean squared error score = 0.3308913308913309\n",
      "R2 score = -0.40839520274129093\n",
      "Precision score = 0.7714285714285715\n"
     ]
    }
   ],
   "source": [
    "final_eval(rf2)"
   ]
  },
  {
   "cell_type": "markdown",
   "id": "b489db8f",
   "metadata": {},
   "source": [
    "As the score shown above, both error metrics score are having the decreation value which signify that the model are quite effectively boosting up model performance since the more error rate are decreased, the more accurete it's model. Plus in this case the observation of false positive class are required due to the danger outcomes that possibly impact the consumer of unsanitary water. Hence precision score is used to calculate how big is the false positive class is. It's also show the decreation of precision score which means model are able to cut off some of the false positive class even it's not quite significant.   "
   ]
  },
  {
   "cell_type": "markdown",
   "metadata": {},
   "source": [
    "## Feature Importances"
   ]
  },
  {
   "cell_type": "code",
   "execution_count": 43,
   "metadata": {},
   "outputs": [
    {
     "data": {
      "text/html": [
       "<div>\n",
       "<style scoped>\n",
       "    .dataframe tbody tr th:only-of-type {\n",
       "        vertical-align: middle;\n",
       "    }\n",
       "\n",
       "    .dataframe tbody tr th {\n",
       "        vertical-align: top;\n",
       "    }\n",
       "\n",
       "    .dataframe thead th {\n",
       "        text-align: right;\n",
       "    }\n",
       "</style>\n",
       "<table border=\"1\" class=\"dataframe\">\n",
       "  <thead>\n",
       "    <tr style=\"text-align: right;\">\n",
       "      <th></th>\n",
       "      <th>importance</th>\n",
       "    </tr>\n",
       "  </thead>\n",
       "  <tbody>\n",
       "    <tr>\n",
       "      <th>Conductivity</th>\n",
       "      <td>0.235098</td>\n",
       "    </tr>\n",
       "    <tr>\n",
       "      <th>Hardness</th>\n",
       "      <td>0.183161</td>\n",
       "    </tr>\n",
       "    <tr>\n",
       "      <th>Sulfate</th>\n",
       "      <td>0.127326</td>\n",
       "    </tr>\n",
       "    <tr>\n",
       "      <th>Solids</th>\n",
       "      <td>0.124560</td>\n",
       "    </tr>\n",
       "    <tr>\n",
       "      <th>Chloramines</th>\n",
       "      <td>0.104767</td>\n",
       "    </tr>\n",
       "    <tr>\n",
       "      <th>Organic_carbon</th>\n",
       "      <td>0.061232</td>\n",
       "    </tr>\n",
       "    <tr>\n",
       "      <th>Potability</th>\n",
       "      <td>0.057346</td>\n",
       "    </tr>\n",
       "    <tr>\n",
       "      <th>Turbidity</th>\n",
       "      <td>0.056777</td>\n",
       "    </tr>\n",
       "    <tr>\n",
       "      <th>Trihalomethanes</th>\n",
       "      <td>0.049733</td>\n",
       "    </tr>\n",
       "    <tr>\n",
       "      <th>ph</th>\n",
       "      <td>0.000000</td>\n",
       "    </tr>\n",
       "  </tbody>\n",
       "</table>\n",
       "</div>"
      ],
      "text/plain": [
       "                 importance\n",
       "Conductivity       0.235098\n",
       "Hardness           0.183161\n",
       "Sulfate            0.127326\n",
       "Solids             0.124560\n",
       "Chloramines        0.104767\n",
       "Organic_carbon     0.061232\n",
       "Potability         0.057346\n",
       "Turbidity          0.056777\n",
       "Trihalomethanes    0.049733\n",
       "ph                 0.000000"
      ]
     },
     "execution_count": 43,
     "metadata": {},
     "output_type": "execute_result"
    }
   ],
   "source": [
    "df_feature = pd.DataFrame({\n",
    "    'importance':rf2.feature_importances_},\n",
    "    index = ['ph','Hardness','Solids','Chloramines','Sulfate','Conductivity','Organic_carbon','Trihalomethanes',\n",
    "    'Turbidity','Potability']\n",
    ").sort_values('importance', ascending =False) #[:14].plot(kind ='barh')\n",
    "df_feature"
   ]
  },
  {
   "cell_type": "code",
   "execution_count": 44,
   "metadata": {},
   "outputs": [
    {
     "data": {
      "text/plain": [
       "<matplotlib.colors.LinearSegmentedColormap at 0x1a1cdfe3f70>"
      ]
     },
     "execution_count": 44,
     "metadata": {},
     "output_type": "execute_result"
    },
    {
     "data": {
      "image/png": "[encoded data removed]",
      "text/plain": [
       "<Figure size 864x576 with 1 Axes>"
      ]
     },
     "metadata": {
      "needs_background": "light"
     },
     "output_type": "display_data"
    }
   ],
   "source": [
    "plt.figure(figsize=(12,8))\n",
    "plt.xticks(rotation=90)\n",
    "plt.ylabel('Importance',size = 12); plt.xlabel('Variable',size = 12); plt.title('Variable Importances',size = 14);\n",
    "sbn.barplot(data = df_feature,x = df_feature.index, y = df_feature['importance'], color='#0066ff' )\n",
    "sbn.color_palette(\"Blues\", as_cmap=True)"
   ]
  },
  {
   "cell_type": "markdown",
   "metadata": {},
   "source": []
  }
 ],
 "metadata": {
  "interpreter": {
   "hash": "99f235fba487840380c0fa558e6ec9e46e9aec294e748707d71306a45d9964bc"
  },
  "kernelspec": {
   "display_name": "Python 3.8.8 64-bit ('base': conda)",
   "name": "python3"
  },
  "language_info": {
   "codemirror_mode": {
    "name": "ipython",
    "version": 3
   },
   "file_extension": ".py",
   "mimetype": "text/x-python",
   "name": "python",
   "nbconvert_exporter": "python",
   "pygments_lexer": "ipython3",
   "version": "3.8.8"
  }
 },
 "nbformat": 4,
 "nbformat_minor": 5
}
